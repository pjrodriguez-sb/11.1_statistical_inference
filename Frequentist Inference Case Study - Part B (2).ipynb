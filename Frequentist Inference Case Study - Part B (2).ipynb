{
 "cells": [
  {
   "cell_type": "markdown",
   "metadata": {},
   "source": [
    "# Frequentist Inference Case Study - Part B"
   ]
  },
  {
   "cell_type": "markdown",
   "metadata": {},
   "source": [
    "## Learning objectives"
   ]
  },
  {
   "cell_type": "markdown",
   "metadata": {},
   "source": [
    "Welcome to Part B of the Frequentist inference case study! The purpose of this case study is to help you apply the concepts associated with Frequentist inference in Python. In particular, you'll practice writing Python code to apply the following statistical concepts: \n",
    "* the _z_-statistic\n",
    "* the _t_-statistic\n",
    "* the difference and relationship between the two\n",
    "* the Central Limit Theorem, including its assumptions and consequences\n",
    "* how to estimate the population mean and standard deviation from a sample\n",
    "* the concept of a sampling distribution of a test statistic, particularly for the mean\n",
    "* how to combine these concepts to calculate a confidence interval"
   ]
  },
  {
   "cell_type": "markdown",
   "metadata": {},
   "source": [
    "In the previous notebook, we used only data from a known normal distribution. **You'll now tackle real data, rather than simulated data, and answer some relevant real-world business problems using the data.**"
   ]
  },
  {
   "cell_type": "markdown",
   "metadata": {},
   "source": [
    "## Hospital medical charges"
   ]
  },
  {
   "cell_type": "markdown",
   "metadata": {},
   "source": [
    "Imagine that a hospital has hired you as their data scientist. An administrator is working on the hospital's business operations plan and needs you to help them answer some business questions. \n",
    "\n",
    "In this assignment notebook, you're going to use frequentist statistical inference on a data sample to answer the questions:\n",
    "* has the hospital's revenue stream fallen below a key threshold?\n",
    "* are patients with insurance really charged different amounts than those without?\n",
    "\n",
    "Answering that last question with a frequentist approach makes some assumptions, and requires some knowledge, about the two groups."
   ]
  },
  {
   "cell_type": "markdown",
   "metadata": {},
   "source": [
    "We are going to use some data on medical charges obtained from [Kaggle](https://www.kaggle.com/easonlai/sample-insurance-claim-prediction-dataset). \n",
    "\n",
    "For the purposes of this exercise, assume the observations are the result of random sampling from our single hospital. Recall that in the previous assignment, we introduced the Central Limit Theorem (CLT), and its consequence that the distributions of sample statistics approach a normal distribution as $n$ increases. The amazing thing about this is that it applies to the sampling distributions of statistics that have been calculated from even highly non-normal distributions of data! Recall, also, that hypothesis testing is very much based on making inferences about such sample statistics. You're going to rely heavily on the CLT to apply frequentist (parametric) tests to answer the questions in this notebook."
   ]
  },
  {
   "cell_type": "code",
   "execution_count": 64,
   "metadata": {},
   "outputs": [],
   "source": [
    "import pandas as pd\n",
    "import numpy as np\n",
    "import matplotlib.pyplot as plt\n",
    "import seaborn as sns\n",
    "from scipy.stats import t\n",
    "from scipy import stats\n",
    "from numpy.random import seed\n",
    "medical = pd.read_csv(r'/Users/pedrorodriguez/Desktop/Springboard/Chapters/11-Python Statistics in EDA/1-Statistical Inference in Python/Frequentist Case Study/insurance2.csv')"
   ]
  },
  {
   "cell_type": "code",
   "execution_count": 2,
   "metadata": {},
   "outputs": [
    {
     "data": {
      "text/plain": [
       "(1338, 8)"
      ]
     },
     "execution_count": 2,
     "metadata": {},
     "output_type": "execute_result"
    }
   ],
   "source": [
    "medical.shape"
   ]
  },
  {
   "cell_type": "code",
   "execution_count": 29,
   "metadata": {},
   "outputs": [
    {
     "data": {
      "text/html": [
       "<div>\n",
       "<style scoped>\n",
       "    .dataframe tbody tr th:only-of-type {\n",
       "        vertical-align: middle;\n",
       "    }\n",
       "\n",
       "    .dataframe tbody tr th {\n",
       "        vertical-align: top;\n",
       "    }\n",
       "\n",
       "    .dataframe thead th {\n",
       "        text-align: right;\n",
       "    }\n",
       "</style>\n",
       "<table border=\"1\" class=\"dataframe\">\n",
       "  <thead>\n",
       "    <tr style=\"text-align: right;\">\n",
       "      <th></th>\n",
       "      <th>age</th>\n",
       "      <th>sex</th>\n",
       "      <th>bmi</th>\n",
       "      <th>children</th>\n",
       "      <th>smoker</th>\n",
       "      <th>region</th>\n",
       "      <th>charges</th>\n",
       "      <th>insuranceclaim</th>\n",
       "    </tr>\n",
       "  </thead>\n",
       "  <tbody>\n",
       "    <tr>\n",
       "      <th>0</th>\n",
       "      <td>19</td>\n",
       "      <td>0</td>\n",
       "      <td>27.900</td>\n",
       "      <td>0</td>\n",
       "      <td>1</td>\n",
       "      <td>3</td>\n",
       "      <td>16884.92400</td>\n",
       "      <td>1</td>\n",
       "    </tr>\n",
       "    <tr>\n",
       "      <th>1</th>\n",
       "      <td>18</td>\n",
       "      <td>1</td>\n",
       "      <td>33.770</td>\n",
       "      <td>1</td>\n",
       "      <td>0</td>\n",
       "      <td>2</td>\n",
       "      <td>1725.55230</td>\n",
       "      <td>1</td>\n",
       "    </tr>\n",
       "    <tr>\n",
       "      <th>2</th>\n",
       "      <td>28</td>\n",
       "      <td>1</td>\n",
       "      <td>33.000</td>\n",
       "      <td>3</td>\n",
       "      <td>0</td>\n",
       "      <td>2</td>\n",
       "      <td>4449.46200</td>\n",
       "      <td>0</td>\n",
       "    </tr>\n",
       "    <tr>\n",
       "      <th>3</th>\n",
       "      <td>33</td>\n",
       "      <td>1</td>\n",
       "      <td>22.705</td>\n",
       "      <td>0</td>\n",
       "      <td>0</td>\n",
       "      <td>1</td>\n",
       "      <td>21984.47061</td>\n",
       "      <td>0</td>\n",
       "    </tr>\n",
       "    <tr>\n",
       "      <th>4</th>\n",
       "      <td>32</td>\n",
       "      <td>1</td>\n",
       "      <td>28.880</td>\n",
       "      <td>0</td>\n",
       "      <td>0</td>\n",
       "      <td>1</td>\n",
       "      <td>3866.85520</td>\n",
       "      <td>1</td>\n",
       "    </tr>\n",
       "  </tbody>\n",
       "</table>\n",
       "</div>"
      ],
      "text/plain": [
       "   age  sex     bmi  children  smoker  region      charges  insuranceclaim\n",
       "0   19    0  27.900         0       1       3  16884.92400               1\n",
       "1   18    1  33.770         1       0       2   1725.55230               1\n",
       "2   28    1  33.000         3       0       2   4449.46200               0\n",
       "3   33    1  22.705         0       0       1  21984.47061               0\n",
       "4   32    1  28.880         0       0       1   3866.85520               1"
      ]
     },
     "execution_count": 29,
     "metadata": {},
     "output_type": "execute_result"
    }
   ],
   "source": [
    "medical.head()"
   ]
  },
  {
   "cell_type": "code",
   "execution_count": 26,
   "metadata": {},
   "outputs": [
    {
     "data": {
      "text/plain": [
       "age               1338\n",
       "sex               1338\n",
       "bmi               1338\n",
       "children          1338\n",
       "smoker            1338\n",
       "region            1338\n",
       "charges           1338\n",
       "insuranceclaim    1338\n",
       "dtype: int64"
      ]
     },
     "execution_count": 26,
     "metadata": {},
     "output_type": "execute_result"
    }
   ],
   "source": [
    "medical_null = (medical.notnull().count())\n",
    "medical_null"
   ]
  },
  {
   "cell_type": "code",
   "execution_count": 25,
   "metadata": {},
   "outputs": [
    {
     "data": {
      "text/plain": [
       "0       False\n",
       "1       False\n",
       "2       False\n",
       "3       False\n",
       "4       False\n",
       "        ...  \n",
       "1333    False\n",
       "1334    False\n",
       "1335    False\n",
       "1336    False\n",
       "1337    False\n",
       "Name: charges, Length: 1338, dtype: bool"
      ]
     },
     "execution_count": 25,
     "metadata": {},
     "output_type": "execute_result"
    }
   ],
   "source": [
    "medical['charges'].isnull()"
   ]
  },
  {
   "cell_type": "markdown",
   "metadata": {},
   "source": [
    "__Q1:__ Plot the histogram of charges and calculate the mean and standard deviation. Comment on the appropriateness of these statistics for the data."
   ]
  },
  {
   "cell_type": "markdown",
   "metadata": {},
   "source": [
    "__A:__"
   ]
  },
  {
   "cell_type": "code",
   "execution_count": 28,
   "metadata": {},
   "outputs": [
    {
     "data": {
      "text/plain": [
       "<matplotlib.axes._subplots.AxesSubplot at 0x7fb2f8e8cd00>"
      ]
     },
     "execution_count": 28,
     "metadata": {},
     "output_type": "execute_result"
    },
    {
     "data": {
      "image/png": "[encoded data removed]",
      "text/plain": [
       "<Figure size 432x288 with 1 Axes>"
      ]
     },
     "metadata": {
      "needs_background": "light"
     },
     "output_type": "display_data"
    }
   ],
   "source": [
    "sns.distplot(medical['charges'])"
   ]
  },
  {
   "cell_type": "code",
   "execution_count": 57,
   "metadata": {
    "scrolled": true
   },
   "outputs": [
    {
     "name": "stdout",
     "output_type": "stream",
     "text": [
      "The mean of charges is 13270.42 \n",
      "the stand. dev. is  12110.01 \n",
      ",and the median is 9382.03\n"
     ]
    }
   ],
   "source": [
    "charges_mean = medical['charges'].mean()\n",
    "charges_median = medical['charges'].median()\n",
    "charges_std = np.std(medical['charges'], ddof = 1)\n",
    "print('The mean of charges is', round(charges_mean,2), '\\nthe stand. dev. is ', round(charges_std, 2), '\\n,and the median is', round(charges_median, 2))"
   ]
  },
  {
   "cell_type": "code",
   "execution_count": null,
   "metadata": {},
   "outputs": [],
   "source": []
  },
  {
   "cell_type": "markdown",
   "metadata": {},
   "source": [
    "__Q2:__ The administrator is concerned that the actual average charge has fallen below 12,000, threatening the hospital's operational model. On the assumption that these data represent a random sample of charges, how would you justify that these data allow you to answer that question? And what would be the most appropriate frequentist test, of the ones discussed so far, to apply?"
   ]
  },
  {
   "cell_type": "code",
   "execution_count": 46,
   "metadata": {},
   "outputs": [
    {
     "data": {
      "text/plain": [
       "<matplotlib.lines.Line2D at 0x7fb2fa00d4c0>"
      ]
     },
     "execution_count": 46,
     "metadata": {},
     "output_type": "execute_result"
    },
    {
     "data": {
      "image/png": "[encoded data removed]",
      "text/plain": [
       "<Figure size 432x288 with 1 Axes>"
      ]
     },
     "metadata": {
      "needs_background": "light"
     },
     "output_type": "display_data"
    }
   ],
   "source": [
    "sns.distplot(medical['charges'])\n",
    "plt.axvline(charges_mean, color='r', linestyle= '-')\n",
    "plt.axvline((charges_mean + charges_std), color='r', linestyle= '--')\n",
    "plt.axvline((charges_mean - charges_std), color='r', linestyle= '--')"
   ]
  },
  {
   "cell_type": "markdown",
   "metadata": {},
   "source": [
    "__A:__ \n",
    " The histogram shows that the vast majority of the patient paid less than 20,000 dollars. On average, the patient paid 13,270.42 dollars with dispersion from the average of 12,110 dollars. But after calculating the median (9,000 dollars), we can see that the mean can be affected by outliers like patients who spent more than 40,000 dollars."
   ]
  },
  {
   "cell_type": "markdown",
   "metadata": {},
   "source": [
    "__Q3:__ Given the nature of the administrator's concern, what is the appropriate confidence interval in this case? A ***one-sided*** or ***two-sided*** interval? (Refresh your understanding of this concept on p. 399 of the *AoS*). Calculate the critical value and the relevant 95% confidence interval for the mean, and comment on whether the administrator should be concerned."
   ]
  },
  {
   "cell_type": "markdown",
   "metadata": {},
   "source": [
    "__A:__"
   ]
  },
  {
   "cell_type": "markdown",
   "metadata": {},
   "source": [
    "The administration wants to know if the actual average charge has fallen below 12,000 dollars. To know if the concern is real, we will test the null hypothesis that the real mean is egual or more than 12000. In this case, we will use the One-side-interval test. "
   ]
  },
  {
   "cell_type": "code",
   "execution_count": 59,
   "metadata": {},
   "outputs": [],
   "source": [
    "#variables\n",
    "m_charges = 12000\n",
    "n_charges = len(medical['charges'])\n",
    "c_charges = 0.95\n",
    "alpha_charges = round(1 - c_charges, 2)"
   ]
  },
  {
   "cell_type": "code",
   "execution_count": 62,
   "metadata": {},
   "outputs": [
    {
     "data": {
      "text/plain": [
       "3.837"
      ]
     },
     "execution_count": 62,
     "metadata": {},
     "output_type": "execute_result"
    }
   ],
   "source": [
    "z_charges = round((charges_mean - m_charges)/(charges_std/np.sqrt(n_charges)), 3)\n",
    "z_charges"
   ]
  },
  {
   "cell_type": "code",
   "execution_count": 67,
   "metadata": {},
   "outputs": [
    {
     "name": "stderr",
     "output_type": "stream",
     "text": [
      "<ipython-input-67-823165af1923>:6: DeprecationWarning: `frechet_r` is deprecated!\n",
      "The distribution `frechet_r` is a synonym for `weibull_min`; this historical\n",
      "usage is deprecated because of possible confusion with the (quite different)\n",
      "Frechet distribution.  To preserve the existing behavior of the program, use\n",
      "`scipy.stats.weibull_min`.  For the Frechet distribution (i.e. the Type II\n",
      "extreme value distribution), use `scipy.stats.invweibull`.\n",
      "  param = dist.fit(medical['charges'])\n",
      "<ipython-input-67-823165af1923>:6: DeprecationWarning: `frechet_l` is deprecated!\n",
      "The distribution `frechet_l` is a synonym for `weibull_max`; this historical\n",
      "usage is deprecated because of possible confusion with the (quite different)\n",
      "Frechet distribution.  To preserve the existing behavior of the program, use\n",
      "`scipy.stats.weibull_max`.  For the Frechet distribution (i.e. the Type II\n",
      "extreme value distribution), use `scipy.stats.invweibull`.\n",
      "  param = dist.fit(medical['charges'])\n"
     ]
    },
    {
     "name": "stdout",
     "output_type": "stream",
     "text": [
      "invgamma: statistic=0.03703480143826231, pvalue=0.04966700415411729\n",
      "invweibull: statistic=0.03733550711178982, pvalue=0.046771349081430436\n",
      "johnsonsu: statistic=0.03831616537079169, pvalue=0.03832108580062965\n",
      "fatiguelife: statistic=0.03849198342272697, pvalue=0.03695601945087057\n",
      "wald: statistic=0.038614431265319604, pvalue=0.036030624723730864\n",
      "gilbrat: statistic=0.04047816715170549, pvalue=0.024250979713149268\n",
      "recipinvgauss: statistic=0.0430335317502909, pvalue=0.013671832614331438\n",
      "fisk: statistic=0.04802562900048912, pvalue=0.004033497888904287\n",
      "betaprime: statistic=0.05850197009589747, pvalue=0.00020146288639109387\n",
      "loglaplace: statistic=0.058841255103979945, pvalue=0.00018103556983804493\n",
      "johnsonsb: statistic=0.060280205524071206, pvalue=0.00011425003629444585\n",
      "gamma: statistic=0.060562681481120206, pvalue=0.00010424262876865686\n",
      "exponnorm: statistic=0.06069652339904685, pvalue=9.979692599447785e-05\n",
      "expon: statistic=0.06101365251220159, pvalue=8.997070576163366e-05\n",
      "genexpon: statistic=0.061013676953702745, pvalue=8.996998514256025e-05\n",
      "pearson3: statistic=0.06129509808340394, pvalue=8.202638776273523e-05\n",
      "genpareto: statistic=0.06187461778165915, pvalue=6.771794657959611e-05\n",
      "gompertz: statistic=0.06353028842752151, pvalue=3.8773855157835816e-05\n",
      "beta: statistic=0.06781228118926341, pvalue=8.561108811762667e-06\n",
      "burr: statistic=0.07551989797434838, pvalue=4.401915745264417e-07\n",
      "foldcauchy: statistic=0.07574612278045967, pvalue=4.015237830024564e-07\n",
      "mielke: statistic=0.0822609430871768, pvalue=2.5255007659487246e-08\n",
      "gausshyper: statistic=0.08508656832270023, pvalue=7.085159358450373e-09\n",
      "f: statistic=0.08899495533470686, pvalue=1.1374860929367663e-09\n",
      "chi: statistic=0.08915571357542262, pvalue=1.0531809523638766e-09\n",
      "gumbel_r: statistic=0.09068899751089665, pvalue=5.017387788178405e-10\n",
      "genlogistic: statistic=0.0916671157501151, pvalue=3.1057332489629297e-10\n",
      "nct: statistic=0.09537175195349329, pvalue=4.8170654302274385e-11\n",
      "halfcauchy: statistic=0.09565788209512383, pvalue=4.1584035565998214e-11\n",
      "exponpow: statistic=0.09661787021395751, pvalue=2.5309172629224335e-11\n",
      "genhalflogistic: statistic=0.09763125862444944, pvalue=1.490323414590419e-11\n",
      "halflogistic: statistic=0.09777133447535802, pvalue=1.3845190228670319e-11\n",
      "nakagami: statistic=0.11703679959456925, pvalue=2.0038679716367862e-16\n",
      "kstwobign: statistic=0.1378392686439961, pvalue=1.2289322082305473e-22\n",
      "lomax: statistic=0.15527823638005034, pvalue=1.2213297033917137e-28\n",
      "vonmises_line: statistic=0.1647588873037747, pvalue=3.291539889341814e-32\n",
      "logistic: statistic=0.1657844907603747, pvalue=1.3130705738836629e-32\n",
      "halfnorm: statistic=0.16656250479024504, pvalue=6.513783014051394e-33\n",
      "foldnorm: statistic=0.166566111860607, pvalue=6.492595646075153e-33\n",
      "tukeylambda: statistic=0.1696902504200395, pvalue=3.759486217791533e-34\n",
      "hypsecant: statistic=0.17258512857071884, pvalue=2.5561153622003797e-35\n",
      "alpha: statistic=0.17474587445952805, pvalue=3.3335108622323996e-36\n",
      "maxwell: statistic=0.18169441358530602, pvalue=3.9922209763516195e-39\n",
      "dgamma: statistic=0.18534463283985209, pvalue=1.0456555443370318e-40\n",
      "cauchy: statistic=0.18546998368339923, pvalue=9.21492369793201e-41\n",
      "laplace: statistic=0.18595238370636943, pvalue=5.660691738396572e-41\n",
      "rayleigh: statistic=0.18729754491236184, pvalue=1.444676700707996e-41\n",
      "rice: statistic=0.18729755090893074, pvalue=1.444667872909564e-41\n",
      "norm: statistic=0.18846204110424236, pvalue=4.39305730768502e-42\n",
      "rdist: statistic=0.18876782490588617, pvalue=3.209660396204535e-42\n",
      "gennorm: statistic=0.1889267929315807, pvalue=2.7258787602793803e-42\n",
      "loggamma: statistic=0.18923153645115987, pvalue=1.9921281601332798e-42\n",
      "t: statistic=0.1895272395200157, pvalue=1.4687622736051956e-42\n",
      "dweibull: statistic=0.1961178554134341, pvalue=1.449894623378102e-45\n",
      "invgauss: statistic=0.20121039606690833, pvalue=5.835211847855387e-48\n",
      "halfgennorm: statistic=0.2074814946293277, pvalue=5.356586449024031e-51\n",
      "levy: statistic=0.22696478815277898, pvalue=4.706110316655556e-61\n",
      "powerlaw: statistic=0.2345025030754544, pvalue=3.3775868663706404e-65\n",
      "gumbel_l: statistic=0.2528102889061908, pvalue=7.389289345486452e-76\n",
      "pareto: statistic=0.2611140031676308, pvalue=5.670287276172198e-81\n",
      "powerlognorm: statistic=0.277789023568773, pvalue=8.879806876422257e-92\n",
      "truncexpon: statistic=0.3101843637778662, pvalue=7.72910761576553e-115\n",
      "cosine: statistic=0.3122894384153329, pvalue=1.9666921962123927e-116\n",
      "burr12: statistic=0.31363953061169025, pvalue=1.840524334821367e-117\n",
      "ncf: statistic=0.32441884300700613, pvalue=7.507890466449532e-126\n",
      "triang: statistic=0.34744567351695355, pvalue=7.894524510727183e-145\n",
      "anglit: statistic=0.3741606804355949, pvalue=1.0869578533751893e-168\n",
      "bradford: statistic=0.3743582516589247, pvalue=7.115929840856565e-169\n",
      "gengamma: statistic=0.41749769939124304, pvalue=9.109403251552018e-212\n",
      "arcsine: statistic=0.4314809526471632, pvalue=7.300833936442115e-227\n",
      "semicircular: statistic=0.4464853034917009, pvalue=9.828231525803063e-244\n",
      "erlang: statistic=0.4515835038064318, pvalue=1.2554322494162958e-249\n",
      "chi2: statistic=0.9989038242738465, pvalue=0.0\n",
      "exponweib: statistic=0.6561526021295124, pvalue=0.0\n",
      "frechet_r: statistic=0.7986094815120779, pvalue=0.0\n",
      "frechet_l: statistic=0.863299928997243, pvalue=0.0\n",
      "genextreme: statistic=0.9315147619605263, pvalue=0.0\n",
      "levy_l: statistic=0.5951504069541091, pvalue=0.0\n",
      "lognorm: statistic=0.9021286929743197, pvalue=0.0\n",
      "ncx2: statistic=0.9931039027164608, pvalue=0.0\n",
      "powernorm: statistic=1.0, pvalue=0.0\n",
      "reciprocal: statistic=1.0, pvalue=0.0\n",
      "truncnorm: statistic=1.0, pvalue=0.0\n",
      "uniform: statistic=0.5147556070186046, pvalue=0.0\n",
      "vonmises: statistic=9.577497978189026e+27, pvalue=0.0\n",
      "weibull_min: statistic=0.7986094815120779, pvalue=0.0\n",
      "weibull_max: statistic=0.863299928997243, pvalue=0.0\n"
     ]
    }
   ],
   "source": [
    "#I use this code to determine the distribution in my capstone project \n",
    "#and need to ask if this work for this project or if there is any other code. \n",
    "\n",
    "list_of_dists = ['alpha','anglit','arcsine','beta','betaprime','bradford','burr','burr12','cauchy','chi','chi2','cosine','dgamma','dweibull','erlang','expon','exponnorm','exponweib','exponpow','f','fatiguelife','fisk','foldcauchy','foldnorm','frechet_r','frechet_l','genlogistic','genpareto','gennorm','genexpon','genextreme','gausshyper','gamma','gengamma','genhalflogistic','gilbrat','gompertz','gumbel_r','gumbel_l','halfcauchy','halflogistic','halfnorm','halfgennorm','hypsecant','invgamma','invgauss','invweibull','johnsonsb','johnsonsu','kstwobign','laplace','levy','levy_l','logistic','loggamma','loglaplace','lognorm','lomax','maxwell','mielke','nakagami','ncx2','ncf','nct','norm','pareto','pearson3','powerlaw','powerlognorm','powernorm','rdist','reciprocal','rayleigh','rice','recipinvgauss','semicircular','t','triang','truncexpon','truncnorm','tukeylambda','uniform','vonmises','vonmises_line','wald','weibull_min','weibull_max']\n",
    "\n",
    "results = []\n",
    "for i in list_of_dists:\n",
    "    dist = getattr(stats, i)\n",
    "    param = dist.fit(medical['charges'])\n",
    "    a = stats.kstest(medical['charges'], i, args=param)\n",
    "    results.append((i,a[0],a[1]))\n",
    "    \n",
    "    \n",
    "results.sort(key=lambda x:float(x[2]), reverse=True)\n",
    "for j in results:\n",
    "    print(\"{}: statistic={}, pvalue={}\".format(j[0], j[1], j[2]))"
   ]
  },
  {
   "cell_type": "markdown",
   "metadata": {},
   "source": [
    "The administrator then wants to know whether people with insurance really are charged a different amount to those without.\n",
    "\n",
    "__Q4:__ State the null and alternative hypothesis here. Use the _t_-test for the difference between means, where the pooled standard deviation of the two groups is given by:\n",
    "\\begin{equation}\n",
    "s_p = \\sqrt{\\frac{(n_0 - 1)s^2_0 + (n_1 - 1)s^2_1}{n_0 + n_1 - 2}}\n",
    "\\end{equation}\n",
    "\n",
    "and the *t*-test statistic is then given by:\n",
    "\n",
    "\\begin{equation}\n",
    "t = \\frac{\\bar{x}_0 - \\bar{x}_1}{s_p \\sqrt{1/n_0 + 1/n_1}}.\n",
    "\\end{equation}\n",
    "\n",
    "(If you need some reminding of the general definition of ***t-statistic***, check out the definition on p. 404 of *AoS*). \n",
    "\n",
    "What assumption about the variances of the two groups are we making here?"
   ]
  },
  {
   "cell_type": "markdown",
   "metadata": {},
   "source": [
    "__A:__"
   ]
  },
  {
   "cell_type": "markdown",
   "metadata": {},
   "source": [
    "__Q5:__ Perform this hypothesis test both manually, using the above formulae, and then using the appropriate function from [scipy.stats](https://docs.scipy.org/doc/scipy/reference/stats.html#statistical-tests) (hint, you're looking for a function to perform a _t_-test on two independent samples). For the manual approach, calculate the value of the test statistic and then its probability (the p-value). Verify you get the same results from both."
   ]
  },
  {
   "cell_type": "markdown",
   "metadata": {},
   "source": [
    "__A:__ "
   ]
  },
  {
   "cell_type": "code",
   "execution_count": null,
   "metadata": {},
   "outputs": [],
   "source": []
  },
  {
   "cell_type": "code",
   "execution_count": null,
   "metadata": {},
   "outputs": [],
   "source": []
  },
  {
   "cell_type": "code",
   "execution_count": null,
   "metadata": {},
   "outputs": [],
   "source": []
  },
  {
   "cell_type": "code",
   "execution_count": null,
   "metadata": {},
   "outputs": [],
   "source": []
  },
  {
   "cell_type": "markdown",
   "metadata": {},
   "source": [
    "Congratulations! Hopefully you got the exact same numerical results. This shows that you correctly calculated the numbers by hand. Secondly, you used the correct function and saw that it's much easier to use. All you need to do is pass your data to it."
   ]
  },
  {
   "cell_type": "markdown",
   "metadata": {},
   "source": [
    "__Q6:__ Conceptual question: look through the documentation for statistical test functions in scipy.stats. You'll see the above _t_-test for a sample, but can you see an equivalent one for performing a *z*-test from a sample? Comment on your answer."
   ]
  },
  {
   "cell_type": "markdown",
   "metadata": {},
   "source": [
    "__A:__"
   ]
  },
  {
   "cell_type": "markdown",
   "metadata": {},
   "source": [
    "## Learning outcomes"
   ]
  },
  {
   "cell_type": "markdown",
   "metadata": {},
   "source": [
    "Having completed this project notebook, you now have good hands-on experience:\n",
    "* using the central limit theorem to help you apply frequentist techniques to answer questions that pertain to very non-normally distributed data from the real world\n",
    "* performing inference using such data to answer business questions\n",
    "* forming a hypothesis and framing the null and alternative hypotheses\n",
    "* testing this using a _t_-test"
   ]
  }
 ],
 "metadata": {
  "kernelspec": {
   "display_name": "Python 3",
   "language": "python",
   "name": "python3"
  },
  "language_info": {
   "codemirror_mode": {
    "name": "ipython",
    "version": 3
   },
   "file_extension": ".py",
   "mimetype": "text/x-python",
   "name": "python",
   "nbconvert_exporter": "python",
   "pygments_lexer": "ipython3",
   "version": "3.8.3"
  }
 },
 "nbformat": 4,
 "nbformat_minor": 2
}
